{
 "cells": [
  {
   "cell_type": "code",
   "execution_count": 3,
   "metadata": {
    "collapsed": true
   },
   "outputs": [],
   "source": [
    "import pandas as pd\n",
    "PATH = 'data//'"
   ]
  },
  {
   "cell_type": "code",
   "execution_count": 4,
   "metadata": {
    "collapsed": true
   },
   "outputs": [],
   "source": [
    "def count_top3(years):\n",
    "    cols = ['Name', 'Gender', 'Count']\n",
    "    # Читаем первый файл и создаем таблицу\n",
    "    table = pd.read_csv(PATH+'yob'+str(years[0])+'.txt', names=cols)\n",
    "    # Проходим по оставшимся файлам\n",
    "    for year in years[1:]:\n",
    "        # К существующей таблице присоединяем новую\n",
    "        table = pd.concat([table, pd.read_csv(PATH+'yob'+str(year)+'.txt', names=cols)])\n",
    "    # Возвращаем список трех самых популярных имен (суммированных и  отсортированных)\n",
    "    return list(table.groupby('Name').sum().sort_values(by='Count', ascending=False).head(3).index.values)"
   ]
  },
  {
   "cell_type": "code",
   "execution_count": 5,
   "metadata": {},
   "outputs": [
    {
     "data": {
      "text/plain": [
       "['James', 'John', 'Robert']"
      ]
     },
     "execution_count": 5,
     "metadata": {},
     "output_type": "execute_result"
    }
   ],
   "source": [
    "count_top3([1900, 1950, 2000])"
   ]
  },
  {
   "cell_type": "code",
   "execution_count": 6,
   "metadata": {},
   "outputs": [
    {
     "data": {
      "text/plain": [
       "['John', 'William', 'Mary']"
      ]
     },
     "execution_count": 6,
     "metadata": {},
     "output_type": "execute_result"
    }
   ],
   "source": [
    "count_top3([1880])"
   ]
  },
  {
   "cell_type": "code",
   "execution_count": 15,
   "metadata": {
    "collapsed": true
   },
   "outputs": [],
   "source": [
    "def count_dynamics(years):\n",
    "    cols = ['Name', 'Gender', 'Count']\n",
    "    # Создаем таблицу для результатов\n",
    "    dynamics = pd.DataFrame({'F': [], 'M': []})\n",
    "    # Читаем данные каждого года\n",
    "    for year in years:\n",
    "        table = pd.read_csv(PATH+'yob'+str(year)+'.txt', names=cols)\n",
    "        # Группируем данные по полу\n",
    "        table = table.groupby('Gender').sum()\n",
    "        # Добавляем в таблицу динамики значения статистики\n",
    "        dynamics.loc[len(dynamics)] = table['Count']['F'], table['Count']['M']\n",
    "    # Конвертируем данные статистики из float в int\n",
    "    dynamics.F = dynamics.F.astype(int)\n",
    "    dynamics.M = dynamics.M.astype(int)\n",
    "    # Создаем словарь из таблицы статистики\n",
    "    result = dynamics.to_dict()\n",
    "    # Конвертируем вложенный словарь с индексами и значениями в список значений\n",
    "    result['F'] = list(result['F'].values())\n",
    "    result['M'] = list(result['M'].values())\n",
    "    # Возвращаем результат вычислений\n",
    "    return result"
   ]
  },
  {
   "cell_type": "code",
   "execution_count": 16,
   "metadata": {},
   "outputs": [
    {
     "data": {
      "text/plain": [
       "{'F': [299810, 1713259, 1814922], 'M': [150486, 1790871, 1962744]}"
      ]
     },
     "execution_count": 16,
     "metadata": {},
     "output_type": "execute_result"
    }
   ],
   "source": [
    "count_dynamics([1900, 1950, 2000])"
   ]
  },
  {
   "cell_type": "code",
   "execution_count": null,
   "metadata": {
    "collapsed": true
   },
   "outputs": [],
   "source": []
  }
 ],
 "metadata": {
  "kernelspec": {
   "display_name": "Python 3",
   "language": "python",
   "name": "python3"
  },
  "language_info": {
   "codemirror_mode": {
    "name": "ipython",
    "version": 3
   },
   "file_extension": ".py",
   "mimetype": "text/x-python",
   "name": "python",
   "nbconvert_exporter": "python",
   "pygments_lexer": "ipython3",
   "version": "3.6.1"
  }
 },
 "nbformat": 4,
 "nbformat_minor": 2
}
