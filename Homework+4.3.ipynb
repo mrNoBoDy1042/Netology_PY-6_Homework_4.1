{
 "cells": [
  {
   "cell_type": "markdown",
   "metadata": {},
   "source": [
    "## Подготовка import"
   ]
  },
  {
   "cell_type": "code",
   "execution_count": 14,
   "metadata": {
    "collapsed": true
   },
   "outputs": [],
   "source": [
    "import requests\n",
    "\n",
    "import pandas as pd\n",
    "import numpy as np\n",
    "import matplotlib.pyplot as plt\n",
    "\n",
    "%matplotlib inline\n",
    "\n",
    "from scipy.cluster.vq import whiten, kmeans2\n",
    "from pprint import pprint"
   ]
  },
  {
   "cell_type": "markdown",
   "metadata": {},
   "source": [
    "## Создаем функция для обращения к api матчей"
   ]
  },
  {
   "cell_type": "code",
   "execution_count": 21,
   "metadata": {
    "collapsed": true
   },
   "outputs": [],
   "source": [
    "def call_api(uri, result_key):\n",
    "    json = {}\n",
    "    json = requests.get(uri, headers = { 'X-Auth-Token': 'c52b7825851b4357af3e06c1888152f0' }).json()\n",
    "    return json[result_key]"
   ]
  },
  {
   "cell_type": "markdown",
   "metadata": {},
   "source": [
    "## Получаем таблицу результатов чемпионата"
   ]
  },
  {
   "cell_type": "code",
   "execution_count": 58,
   "metadata": {},
   "outputs": [],
   "source": [
    "# Получаем ссылку на таблицу результатов\n",
    "league_table_link = call_api('http://api.football-data.org/v1/competitions/430', '_links')['leagueTable']['href']\n",
    "# Получаем у api таблицу результатов\n",
    "teams_table = call_api(league_table_link, 'standing')"
   ]
  },
  {
   "cell_type": "markdown",
   "metadata": {},
   "source": [
    "## Составляем список данных для последующей конвертации для pandas"
   ]
  },
  {
   "cell_type": "code",
   "execution_count": 75,
   "metadata": {},
   "outputs": [
    {
     "data": {
      "text/plain": [
       "[{'goals': 89, 'name': 'FC Bayern München', 'wins': 25},\n",
       " {'goals': 66, 'name': 'Red Bull Leipzig', 'wins': 20},\n",
       " {'goals': 72, 'name': 'Borussia Dortmund', 'wins': 18},\n",
       " {'goals': 64, 'name': 'TSG 1899 Hoffenheim', 'wins': 16},\n",
       " {'goals': 51, 'name': '1. FC Köln', 'wins': 12},\n",
       " {'goals': 43, 'name': 'Hertha BSC', 'wins': 15},\n",
       " {'goals': 42, 'name': 'SC Freiburg', 'wins': 14},\n",
       " {'goals': 61, 'name': 'Werder Bremen', 'wins': 13},\n",
       " {'goals': 45, 'name': 'Bor. Mönchengladbach', 'wins': 12},\n",
       " {'goals': 45, 'name': 'FC Schalke 04', 'wins': 11},\n",
       " {'goals': 36, 'name': 'Eintracht Frankfurt', 'wins': 11},\n",
       " {'goals': 53, 'name': 'Bayer Leverkusen', 'wins': 11},\n",
       " {'goals': 35, 'name': 'FC Augsburg', 'wins': 9},\n",
       " {'goals': 33, 'name': 'Hamburger SV', 'wins': 10},\n",
       " {'goals': 44, 'name': '1. FSV Mainz 05', 'wins': 10},\n",
       " {'goals': 34, 'name': 'VfL Wolfsburg', 'wins': 10},\n",
       " {'goals': 36, 'name': 'FC Ingolstadt 04', 'wins': 8},\n",
       " {'goals': 28, 'name': 'SV Darmstadt 98', 'wins': 7}]"
      ]
     },
     "execution_count": 75,
     "metadata": {},
     "output_type": "execute_result"
    }
   ],
   "source": [
    "table_for_pd = []\n",
    "for team in teams_table:\n",
    "    table_for_pd.append({'name': team['teamName'], 'goals': team['goals'], 'wins': team['wins']})\n",
    "table_for_pd"
   ]
  },
  {
   "cell_type": "markdown",
   "metadata": {},
   "source": [
    "## Создаем таблицу pandas"
   ]
  },
  {
   "cell_type": "code",
   "execution_count": 76,
   "metadata": {},
   "outputs": [
    {
     "data": {
      "text/html": [
       "<div>\n",
       "<style>\n",
       "    .dataframe thead tr:only-child th {\n",
       "        text-align: right;\n",
       "    }\n",
       "\n",
       "    .dataframe thead th {\n",
       "        text-align: left;\n",
       "    }\n",
       "\n",
       "    .dataframe tbody tr th {\n",
       "        vertical-align: top;\n",
       "    }\n",
       "</style>\n",
       "<table border=\"1\" class=\"dataframe\">\n",
       "  <thead>\n",
       "    <tr style=\"text-align: right;\">\n",
       "      <th></th>\n",
       "      <th>goals</th>\n",
       "      <th>name</th>\n",
       "      <th>wins</th>\n",
       "    </tr>\n",
       "  </thead>\n",
       "  <tbody>\n",
       "    <tr>\n",
       "      <th>0</th>\n",
       "      <td>89</td>\n",
       "      <td>FC Bayern München</td>\n",
       "      <td>25</td>\n",
       "    </tr>\n",
       "    <tr>\n",
       "      <th>1</th>\n",
       "      <td>66</td>\n",
       "      <td>Red Bull Leipzig</td>\n",
       "      <td>20</td>\n",
       "    </tr>\n",
       "    <tr>\n",
       "      <th>2</th>\n",
       "      <td>72</td>\n",
       "      <td>Borussia Dortmund</td>\n",
       "      <td>18</td>\n",
       "    </tr>\n",
       "    <tr>\n",
       "      <th>3</th>\n",
       "      <td>64</td>\n",
       "      <td>TSG 1899 Hoffenheim</td>\n",
       "      <td>16</td>\n",
       "    </tr>\n",
       "    <tr>\n",
       "      <th>4</th>\n",
       "      <td>51</td>\n",
       "      <td>1. FC Köln</td>\n",
       "      <td>12</td>\n",
       "    </tr>\n",
       "    <tr>\n",
       "      <th>5</th>\n",
       "      <td>43</td>\n",
       "      <td>Hertha BSC</td>\n",
       "      <td>15</td>\n",
       "    </tr>\n",
       "    <tr>\n",
       "      <th>6</th>\n",
       "      <td>42</td>\n",
       "      <td>SC Freiburg</td>\n",
       "      <td>14</td>\n",
       "    </tr>\n",
       "    <tr>\n",
       "      <th>7</th>\n",
       "      <td>61</td>\n",
       "      <td>Werder Bremen</td>\n",
       "      <td>13</td>\n",
       "    </tr>\n",
       "    <tr>\n",
       "      <th>8</th>\n",
       "      <td>45</td>\n",
       "      <td>Bor. Mönchengladbach</td>\n",
       "      <td>12</td>\n",
       "    </tr>\n",
       "    <tr>\n",
       "      <th>9</th>\n",
       "      <td>45</td>\n",
       "      <td>FC Schalke 04</td>\n",
       "      <td>11</td>\n",
       "    </tr>\n",
       "    <tr>\n",
       "      <th>10</th>\n",
       "      <td>36</td>\n",
       "      <td>Eintracht Frankfurt</td>\n",
       "      <td>11</td>\n",
       "    </tr>\n",
       "    <tr>\n",
       "      <th>11</th>\n",
       "      <td>53</td>\n",
       "      <td>Bayer Leverkusen</td>\n",
       "      <td>11</td>\n",
       "    </tr>\n",
       "    <tr>\n",
       "      <th>12</th>\n",
       "      <td>35</td>\n",
       "      <td>FC Augsburg</td>\n",
       "      <td>9</td>\n",
       "    </tr>\n",
       "    <tr>\n",
       "      <th>13</th>\n",
       "      <td>33</td>\n",
       "      <td>Hamburger SV</td>\n",
       "      <td>10</td>\n",
       "    </tr>\n",
       "    <tr>\n",
       "      <th>14</th>\n",
       "      <td>44</td>\n",
       "      <td>1. FSV Mainz 05</td>\n",
       "      <td>10</td>\n",
       "    </tr>\n",
       "    <tr>\n",
       "      <th>15</th>\n",
       "      <td>34</td>\n",
       "      <td>VfL Wolfsburg</td>\n",
       "      <td>10</td>\n",
       "    </tr>\n",
       "    <tr>\n",
       "      <th>16</th>\n",
       "      <td>36</td>\n",
       "      <td>FC Ingolstadt 04</td>\n",
       "      <td>8</td>\n",
       "    </tr>\n",
       "    <tr>\n",
       "      <th>17</th>\n",
       "      <td>28</td>\n",
       "      <td>SV Darmstadt 98</td>\n",
       "      <td>7</td>\n",
       "    </tr>\n",
       "  </tbody>\n",
       "</table>\n",
       "</div>"
      ],
      "text/plain": [
       "    goals                  name  wins\n",
       "0      89     FC Bayern München    25\n",
       "1      66      Red Bull Leipzig    20\n",
       "2      72     Borussia Dortmund    18\n",
       "3      64   TSG 1899 Hoffenheim    16\n",
       "4      51            1. FC Köln    12\n",
       "5      43            Hertha BSC    15\n",
       "6      42           SC Freiburg    14\n",
       "7      61         Werder Bremen    13\n",
       "8      45  Bor. Mönchengladbach    12\n",
       "9      45         FC Schalke 04    11\n",
       "10     36   Eintracht Frankfurt    11\n",
       "11     53      Bayer Leverkusen    11\n",
       "12     35           FC Augsburg     9\n",
       "13     33          Hamburger SV    10\n",
       "14     44       1. FSV Mainz 05    10\n",
       "15     34         VfL Wolfsburg    10\n",
       "16     36      FC Ingolstadt 04     8\n",
       "17     28       SV Darmstadt 98     7"
      ]
     },
     "execution_count": 76,
     "metadata": {},
     "output_type": "execute_result"
    }
   ],
   "source": [
    "teams_pd = pd.DataFrame(table_for_pd)\n",
    "teams_pd"
   ]
  },
  {
   "cell_type": "markdown",
   "metadata": {},
   "source": [
    "## Строим график по количеству голов и побед"
   ]
  },
  {
   "cell_type": "code",
   "execution_count": 78,
   "metadata": {},
   "outputs": [
    {
     "data": {
      "text/plain": [
       "<matplotlib.axes._subplots.AxesSubplot at 0x25c58142710>"
      ]
     },
     "execution_count": 78,
     "metadata": {},
     "output_type": "execute_result"
    },
    {
     "data": {
      "image/png": "[encoded data removed]",
      "text/plain": [
       "<matplotlib.figure.Figure at 0x25c57b77eb8>"
      ]
     },
     "metadata": {},
     "output_type": "display_data"
    }
   ],
   "source": [
    "teams_pd.plot.scatter(x='goals', y='wins', s=100)"
   ]
  },
  {
   "cell_type": "markdown",
   "metadata": {},
   "source": [
    "## Удаляем столбец с названиями команд и проводим нормализацию данных"
   ]
  },
  {
   "cell_type": "code",
   "execution_count": 79,
   "metadata": {},
   "outputs": [
    {
     "data": {
      "text/html": [
       "<div>\n",
       "<style>\n",
       "    .dataframe thead tr:only-child th {\n",
       "        text-align: right;\n",
       "    }\n",
       "\n",
       "    .dataframe thead th {\n",
       "        text-align: left;\n",
       "    }\n",
       "\n",
       "    .dataframe tbody tr th {\n",
       "        vertical-align: top;\n",
       "    }\n",
       "</style>\n",
       "<table border=\"1\" class=\"dataframe\">\n",
       "  <thead>\n",
       "    <tr style=\"text-align: right;\">\n",
       "      <th></th>\n",
       "      <th>goals</th>\n",
       "      <th>wins</th>\n",
       "    </tr>\n",
       "  </thead>\n",
       "  <tbody>\n",
       "    <tr>\n",
       "      <th>0</th>\n",
       "      <td>89</td>\n",
       "      <td>25</td>\n",
       "    </tr>\n",
       "    <tr>\n",
       "      <th>1</th>\n",
       "      <td>66</td>\n",
       "      <td>20</td>\n",
       "    </tr>\n",
       "    <tr>\n",
       "      <th>2</th>\n",
       "      <td>72</td>\n",
       "      <td>18</td>\n",
       "    </tr>\n",
       "    <tr>\n",
       "      <th>3</th>\n",
       "      <td>64</td>\n",
       "      <td>16</td>\n",
       "    </tr>\n",
       "    <tr>\n",
       "      <th>4</th>\n",
       "      <td>51</td>\n",
       "      <td>12</td>\n",
       "    </tr>\n",
       "    <tr>\n",
       "      <th>5</th>\n",
       "      <td>43</td>\n",
       "      <td>15</td>\n",
       "    </tr>\n",
       "    <tr>\n",
       "      <th>6</th>\n",
       "      <td>42</td>\n",
       "      <td>14</td>\n",
       "    </tr>\n",
       "    <tr>\n",
       "      <th>7</th>\n",
       "      <td>61</td>\n",
       "      <td>13</td>\n",
       "    </tr>\n",
       "    <tr>\n",
       "      <th>8</th>\n",
       "      <td>45</td>\n",
       "      <td>12</td>\n",
       "    </tr>\n",
       "    <tr>\n",
       "      <th>9</th>\n",
       "      <td>45</td>\n",
       "      <td>11</td>\n",
       "    </tr>\n",
       "    <tr>\n",
       "      <th>10</th>\n",
       "      <td>36</td>\n",
       "      <td>11</td>\n",
       "    </tr>\n",
       "    <tr>\n",
       "      <th>11</th>\n",
       "      <td>53</td>\n",
       "      <td>11</td>\n",
       "    </tr>\n",
       "    <tr>\n",
       "      <th>12</th>\n",
       "      <td>35</td>\n",
       "      <td>9</td>\n",
       "    </tr>\n",
       "    <tr>\n",
       "      <th>13</th>\n",
       "      <td>33</td>\n",
       "      <td>10</td>\n",
       "    </tr>\n",
       "    <tr>\n",
       "      <th>14</th>\n",
       "      <td>44</td>\n",
       "      <td>10</td>\n",
       "    </tr>\n",
       "    <tr>\n",
       "      <th>15</th>\n",
       "      <td>34</td>\n",
       "      <td>10</td>\n",
       "    </tr>\n",
       "    <tr>\n",
       "      <th>16</th>\n",
       "      <td>36</td>\n",
       "      <td>8</td>\n",
       "    </tr>\n",
       "    <tr>\n",
       "      <th>17</th>\n",
       "      <td>28</td>\n",
       "      <td>7</td>\n",
       "    </tr>\n",
       "  </tbody>\n",
       "</table>\n",
       "</div>"
      ],
      "text/plain": [
       "    goals  wins\n",
       "0      89    25\n",
       "1      66    20\n",
       "2      72    18\n",
       "3      64    16\n",
       "4      51    12\n",
       "5      43    15\n",
       "6      42    14\n",
       "7      61    13\n",
       "8      45    12\n",
       "9      45    11\n",
       "10     36    11\n",
       "11     53    11\n",
       "12     35     9\n",
       "13     33    10\n",
       "14     44    10\n",
       "15     34    10\n",
       "16     36     8\n",
       "17     28     7"
      ]
     },
     "execution_count": 79,
     "metadata": {},
     "output_type": "execute_result"
    }
   ],
   "source": [
    "del teams_pd['name']\n",
    "teams_pd"
   ]
  },
  {
   "cell_type": "code",
   "execution_count": 80,
   "metadata": {},
   "outputs": [
    {
     "data": {
      "text/plain": [
       "array([[ 5.69012464,  5.67126778],\n",
       "       [ 4.21964299,  4.53701423],\n",
       "       [ 4.6032469 ,  4.0833128 ],\n",
       "       [ 4.09177502,  3.62961138],\n",
       "       [ 3.26063322,  2.72220854],\n",
       "       [ 2.74916134,  3.40276067],\n",
       "       [ 2.68522736,  3.17590996],\n",
       "       [ 3.89997307,  2.94905925],\n",
       "       [ 2.87702931,  2.72220854],\n",
       "       [ 2.87702931,  2.49535782],\n",
       "       [ 2.30162345,  2.49535782],\n",
       "       [ 3.38850119,  2.49535782],\n",
       "       [ 2.23768947,  2.0416564 ],\n",
       "       [ 2.1098215 ,  2.26850711],\n",
       "       [ 2.81309533,  2.26850711],\n",
       "       [ 2.17375548,  2.26850711],\n",
       "       [ 2.30162345,  1.81480569],\n",
       "       [ 1.79015157,  1.58795498]])"
      ]
     },
     "execution_count": 80,
     "metadata": {},
     "output_type": "execute_result"
    }
   ],
   "source": [
    "normalized = whiten(teams_pd.as_matrix())\n",
    "normalized"
   ]
  },
  {
   "cell_type": "markdown",
   "metadata": {},
   "source": [
    "## Создаем кластеры и задаем цвета"
   ]
  },
  {
   "cell_type": "code",
   "execution_count": 82,
   "metadata": {},
   "outputs": [],
   "source": [
    "centroids, cluster_map = kmeans2(normalized, 3)"
   ]
  },
  {
   "cell_type": "code",
   "execution_count": 83,
   "metadata": {
    "collapsed": true
   },
   "outputs": [],
   "source": [
    "colors_map = {0: 'r', 1: 'g', 2: 'y'}\n",
    "colors = [colors_map[col] for col in cluster_map]"
   ]
  },
  {
   "cell_type": "markdown",
   "metadata": {},
   "source": [
    "## Создаем точечный график"
   ]
  },
  {
   "cell_type": "code",
   "execution_count": 88,
   "metadata": {},
   "outputs": [
    {
     "data": {
      "text/plain": [
       "<matplotlib.axes._subplots.AxesSubplot at 0x25c59824860>"
      ]
     },
     "execution_count": 88,
     "metadata": {},
     "output_type": "execute_result"
    },
    {
     "data": {
      "image/png": "[encoded data removed]",
      "text/plain": [
       "<matplotlib.figure.Figure at 0x25c59836438>"
      ]
     },
     "metadata": {},
     "output_type": "display_data"
    }
   ],
   "source": [
    "teams_pd.plot.scatter(x='goals', y='wins', c=colors, s=100)"
   ]
  }
 ],
 "metadata": {
  "kernelspec": {
   "display_name": "Python 3",
   "language": "python",
   "name": "python3"
  },
  "language_info": {
   "codemirror_mode": {
    "name": "ipython",
    "version": 3
   },
   "file_extension": ".py",
   "mimetype": "text/x-python",
   "name": "python",
   "nbconvert_exporter": "python",
   "pygments_lexer": "ipython3",
   "version": "3.6.1"
  }
 },
 "nbformat": 4,
 "nbformat_minor": 2
}
